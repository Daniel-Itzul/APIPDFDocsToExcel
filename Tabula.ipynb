{
 "cells": [
  {
   "cell_type": "code",
   "execution_count": 17,
   "metadata": {},
   "outputs": [],
   "source": [
    "import tabula as tab"
   ]
  },
  {
   "cell_type": "code",
   "execution_count": 18,
   "metadata": {},
   "outputs": [
    {
     "name": "stdout",
     "output_type": "stream",
     "text": [
      "Object `tabula.read_pdf` not found.\n"
     ]
    }
   ],
   "source": [
    "?tabula.read_pdf"
   ]
  },
  {
   "cell_type": "code",
   "execution_count": 24,
   "metadata": {},
   "outputs": [],
   "source": [
    "pdf_path = \"Claim Extract Specs.pdf\""
   ]
  },
  {
   "cell_type": "code",
   "execution_count": 29,
   "metadata": {},
   "outputs": [],
   "source": [
    "df = tab.read_pdf(pdf_path, pages=21, lattice=True, stream=False)"
   ]
  },
  {
   "cell_type": "code",
   "execution_count": 30,
   "metadata": {},
   "outputs": [
    {
     "data": {
      "text/plain": [
       "[             Element                  Data Type          Description\n",
       " 0             status                     string      Benefit status.\n",
       " 1        benefitInfo                benefitInfo     See benefitInfo.\n",
       " 2     benefitNetwork  benefitNetworkInformation  See benefitNetwork.\n",
       " 3        pricingInfo                pricingInfo     See pricingInfo.\n",
       " 4  claimLineMessages          messageMappedList    SeemessageMapped.,\n",
       "      Element Data Type Description\n",
       " 0  drgWeight    string  DRGweight.,\n",
       "                              Element        Data Type  \\\n",
       " 0                    adjustedCharges           string   \n",
       " 1                      adjustedUnits              int   \n",
       " 2                        disposition           string   \n",
       " 3  filteredOutFromExternalProcessing          boolean   \n",
       " 4                        ingenixFlag  ingenixFlagList   \n",
       " \n",
       "                                          Description  \n",
       " 0                                  Adjusted charges.  \n",
       " 1                                    Adjusted units.  \n",
       " 2                                       Disposition.  \n",
       " 3  Some lines can be filtered out from external\\r...  \n",
       " 4                                   See ingenixFlag.  ,\n",
       "            Element Data Type  \\\n",
       " 0  measurementType    string   \n",
       " 1          ndcCode    string   \n",
       " 2         quantity    string   \n",
       " \n",
       "                                          Description  \n",
       " 0  Identifies the unit of measurement, such as ML...  \n",
       " 1                      National Drug Code reference.  \n",
       " 2                     Quantity; maximum of 8 digits.  ,\n",
       "   Element Data Type               Description\n",
       " 0    name    string  Reporting category name.\n",
       " 1    type    string  Reporting category type.]"
      ]
     },
     "execution_count": 30,
     "metadata": {},
     "output_type": "execute_result"
    }
   ],
   "source": [
    "df"
   ]
  },
  {
   "cell_type": "code",
   "execution_count": null,
   "metadata": {},
   "outputs": [],
   "source": []
  },
  {
   "cell_type": "code",
   "execution_count": null,
   "metadata": {},
   "outputs": [],
   "source": []
  }
 ],
 "metadata": {
  "kernelspec": {
   "display_name": "Python 3",
   "language": "python",
   "name": "python3"
  },
  "language_info": {
   "codemirror_mode": {
    "name": "ipython",
    "version": 3
   },
   "file_extension": ".py",
   "mimetype": "text/x-python",
   "name": "python",
   "nbconvert_exporter": "python",
   "pygments_lexer": "ipython3",
   "version": "3.7.4"
  }
 },
 "nbformat": 4,
 "nbformat_minor": 2
}
